{
 "cells": [
  {
   "cell_type": "code",
   "execution_count": 6,
   "metadata": {},
   "outputs": [],
   "source": [
    "import pandas as pd\n",
    "import seaborn as sns\n",
    "import matplotlib.pyplot as plt\n",
    "import seaborn as sns\n",
    "\n",
    "from scipy import stats\n",
    "import numpy as np"
   ]
  },
  {
   "attachments": {},
   "cell_type": "markdown",
   "metadata": {},
   "source": [
    "# Set 1"
   ]
  },
  {
   "cell_type": "code",
   "execution_count": 7,
   "metadata": {},
   "outputs": [],
   "source": [
    "q1 = pd.read_csv('Q1.csv')"
   ]
  },
  {
   "cell_type": "code",
   "execution_count": 8,
   "metadata": {},
   "outputs": [
    {
     "data": {
      "text/plain": [
       "Text(0.5, 1.0, 'Boxplot')"
      ]
     },
     "execution_count": 8,
     "metadata": {},
     "output_type": "execute_result"
    },
    {
     "data": {
      "image/png": "[encoded data removed]",
      "text/plain": [
       "<Figure size 720x288 with 2 Axes>"
      ]
     },
     "metadata": {
      "needs_background": "light"
     },
     "output_type": "display_data"
    }
   ],
   "source": [
    "plt.figure(figsize=(10,4))\n",
    "plt.subplot(1,2,1)\n",
    "ax1 = sns.histplot(q1['Measure X'],kde=True)\n",
    "ax1.set_title('Histogram')\n",
    "plt.subplot(1,2,2)\n",
    "ax2 = sns.boxplot(q1['Measure X'])\n",
    "ax2.set_title('Boxplot')"
   ]
  },
  {
   "cell_type": "code",
   "execution_count": 9,
   "metadata": {},
   "outputs": [
    {
     "name": "stdout",
     "output_type": "stream",
     "text": [
      "mean is:  0.3327133333333333\n",
      "variance is:  0.028714661238095233\n",
      "standard deviation is:  0.16945400921222029\n"
     ]
    }
   ],
   "source": [
    "print('mean is: ', q1['Measure X'].mean())\n",
    "print('variance is: ', q1['Measure X'].var())\n",
    "print('standard deviation is: ', q1['Measure X'].std())"
   ]
  },
  {
   "attachments": {},
   "cell_type": "markdown",
   "metadata": {},
   "source": [
    "# Set 2"
   ]
  },
  {
   "attachments": {},
   "cell_type": "markdown",
   "metadata": {},
   "source": [
    "1.\tThe time required for servicing transmissions is normally distributed with $\\mu$ = 45 minutes and $\\sigma$ = 8 minutes. The service manager plans to have work begin on the transmission of a customer’s car 10 minutes after the car is dropped off and the customer is told that the car will be ready within 1 hour from drop-off. What is the probability that the service manager cannot meet his commitment? \n",
    "\n",
    "    A.\t0.3875   \n",
    "    B.\t0.2676   \n",
    "    C.\t0.5   \n",
    "    D.\t0.6987 "
   ]
  },
  {
   "cell_type": "code",
   "execution_count": 10,
   "metadata": {},
   "outputs": [
    {
     "data": {
      "text/plain": [
       "0.26598552904870054"
      ]
     },
     "execution_count": 10,
     "metadata": {},
     "output_type": "execute_result"
    }
   ],
   "source": [
    "mean = 45\n",
    "std = 8\n",
    "1-stats.norm.cdf(50,loc=mean,scale=std)"
   ]
  },
  {
   "attachments": {},
   "cell_type": "markdown",
   "metadata": {},
   "source": [
    "2.\tThe current age (in years) of 400 clerical employees at an insurance claims processing center is normally distributed with mean $\\mu$ = 38 and Standard deviation $\\sigma$ = 6. For each statement below, please specify True/False. If false, briefly explain why.\n",
    "\n",
    "    A. More employees at the processing center are older than 44 than between 38 and 44.\\\n",
    "    B. A training program for employees under the age of 30 at the center would be expected to attract about 36 employees."
   ]
  },
  {
   "cell_type": "code",
   "execution_count": 11,
   "metadata": {},
   "outputs": [
    {
     "name": "stdout",
     "output_type": "stream",
     "text": [
      "between 38 and 44: 0.3413447460685429\n",
      "greater than 44: 0.15865525393145707\n"
     ]
    }
   ],
   "source": [
    "mean = 38\n",
    "std =6\n",
    "print('between 38 and 44:',stats.norm.cdf(44,mean,std)-stats.norm.cdf(38,mean,std))\n",
    "print('greater than 44:',1-stats.norm.cdf(44,mean,std))"
   ]
  },
  {
   "cell_type": "code",
   "execution_count": 12,
   "metadata": {},
   "outputs": [
    {
     "data": {
      "text/plain": [
       "False"
      ]
     },
     "execution_count": 12,
     "metadata": {},
     "output_type": "execute_result"
    }
   ],
   "source": [
    "mean = 38\n",
    "std =6\n",
    "P_44 = 1-stats.norm.cdf(44,mean,std)\n",
    "P_38_44 = stats.norm.cdf(44,mean,std)-stats.norm.cdf(38,mean,std)\n",
    "P_44>P_38_44"
   ]
  },
  {
   "cell_type": "code",
   "execution_count": 13,
   "metadata": {},
   "outputs": [
    {
     "name": "stdout",
     "output_type": "stream",
     "text": [
      "percentage under 30 = 0.09121121972586788\n",
      "percentage of 36 people = 9.0\n"
     ]
    }
   ],
   "source": [
    "print('percentage under 30 =',stats.norm.cdf(30,mean,std))\n",
    "print('percentage of 36 people =',36/4)"
   ]
  },
  {
   "cell_type": "code",
   "execution_count": 14,
   "metadata": {},
   "outputs": [
    {
     "data": {
      "text/plain": [
       "36.484487890347154"
      ]
     },
     "execution_count": 14,
     "metadata": {},
     "output_type": "execute_result"
    }
   ],
   "source": [
    "stats.norm.cdf((30-mean)/std)*400"
   ]
  },
  {
   "attachments": {},
   "cell_type": "markdown",
   "metadata": {},
   "source": [
    "4.\tLet X ~ N(100, 202). Find two values, a and b, symmetric about the mean, such that the probability of the random variable taking a value between them is 0.99. \n",
    "\n",
    "    A.\t90.5, 105.9\\\n",
    "    B.\t80.2, 119.8\\\n",
    "    C.\t22, 78\\\n",
    "    D.\t48.5, 151.5\\\n",
    "    E.\t90.1, 109.9"
   ]
  },
  {
   "cell_type": "code",
   "execution_count": 15,
   "metadata": {},
   "outputs": [
    {
     "data": {
      "text/plain": [
       "(48.483413929021985, 151.516586070978)"
      ]
     },
     "execution_count": 15,
     "metadata": {},
     "output_type": "execute_result"
    }
   ],
   "source": [
    "stats.norm.ppf(0.005,100,20),stats.norm.ppf(0.995,100,20)"
   ]
  },
  {
   "attachments": {},
   "cell_type": "markdown",
   "metadata": {},
   "source": [
    "5.\tConsider a company that has two different divisions. The annual profits from the two divisions are independent and have distributions Profit1 ~ N(5, 32) and Profit2 ~ N(7, 42) respectively. Both the profits are in $ Million. Answer the following questions about the total profit of the company in Rupees. Assume that $1 = Rs. 45\n",
    "\n",
    "    A.\tSpecify a Rupee range (centered on the mean) such that it contains 95% probability for the annual profit of the company.\\\n",
    "    B.\tSpecify the 5th percentile of profit (in Rupees) for the company\\\n",
    "    C.\tWhich of the two divisions has a larger probability of making a loss in a given year?\\"
   ]
  },
  {
   "cell_type": "code",
   "execution_count": 16,
   "metadata": {},
   "outputs": [],
   "source": [
    "# converting original mean and std in rupees\n",
    "mean1 = 5*45\n",
    "std1 = 3*45\n",
    "mean2 = 7*45\n",
    "std2 = 4*45\n",
    "# calculating total mean and std\n",
    "total_mean = mean1+mean2\n",
    "total_std = np.sqrt(std1**2 + std2**2)"
   ]
  },
  {
   "cell_type": "code",
   "execution_count": 17,
   "metadata": {},
   "outputs": [
    {
     "data": {
      "text/plain": [
       "(99.00810347848773, 980.9918965215122)"
      ]
     },
     "execution_count": 17,
     "metadata": {},
     "output_type": "execute_result"
    }
   ],
   "source": [
    "# rupee range\n",
    "stats.norm.ppf(0.025,total_mean,total_std),stats.norm.ppf(0.975,total_mean,total_std)"
   ]
  },
  {
   "cell_type": "code",
   "execution_count": 18,
   "metadata": {},
   "outputs": [
    {
     "data": {
      "text/plain": [
       "169.9079339359186"
      ]
     },
     "execution_count": 18,
     "metadata": {},
     "output_type": "execute_result"
    }
   ],
   "source": [
    "stats.norm.ppf(0.05,total_mean,total_std)"
   ]
  },
  {
   "cell_type": "code",
   "execution_count": 19,
   "metadata": {},
   "outputs": [
    {
     "name": "stdout",
     "output_type": "stream",
     "text": [
      "Division 1 loss probability: 0.0477903522728147\n",
      "Division 2 loss probability: 0.040059156863817086\n"
     ]
    }
   ],
   "source": [
    "print('Division 1 loss probability:',stats.norm.cdf(0,mean1,std1))\n",
    "print('Division 2 loss probability:',stats.norm.cdf(0,mean2,std2))"
   ]
  },
  {
   "attachments": {},
   "cell_type": "markdown",
   "metadata": {},
   "source": [
    "# Set 3"
   ]
  },
  {
   "cell_type": "code",
   "execution_count": 20,
   "metadata": {},
   "outputs": [],
   "source": [
    "z = (0.046-0.05)/np.sqrt(0.05 * (1 - 0.05) / 2000)"
   ]
  },
  {
   "cell_type": "code",
   "execution_count": 21,
   "metadata": {},
   "outputs": [
    {
     "data": {
      "text/plain": [
       "-0.820782681668124"
      ]
     },
     "execution_count": 21,
     "metadata": {},
     "output_type": "execute_result"
    }
   ],
   "source": [
    "z"
   ]
  },
  {
   "cell_type": "code",
   "execution_count": 22,
   "metadata": {},
   "outputs": [
    {
     "data": {
      "text/plain": [
       "0.20588503245107104"
      ]
     },
     "execution_count": 22,
     "metadata": {},
     "output_type": "execute_result"
    }
   ],
   "source": [
    "stats.norm.cdf(z)"
   ]
  },
  {
   "cell_type": "code",
   "execution_count": 23,
   "metadata": {},
   "outputs": [
    {
     "data": {
      "text/plain": [
       "-1.9599639845400545"
      ]
     },
     "execution_count": 23,
     "metadata": {},
     "output_type": "execute_result"
    }
   ],
   "source": [
    "stats.norm.ppf(0.025)"
   ]
  },
  {
   "cell_type": "code",
   "execution_count": 24,
   "metadata": {},
   "outputs": [
    {
     "data": {
      "text/plain": [
       "-2.3263478740408408"
      ]
     },
     "execution_count": 24,
     "metadata": {},
     "output_type": "execute_result"
    }
   ],
   "source": [
    "stats.norm.ppf(0.01)"
   ]
  },
  {
   "attachments": {},
   "cell_type": "markdown",
   "metadata": {},
   "source": [
    "# Set 4"
   ]
  },
  {
   "cell_type": "code",
   "execution_count": 25,
   "metadata": {},
   "outputs": [
    {
     "data": {
      "text/plain": [
       "21.129954733371072"
      ]
     },
     "execution_count": 25,
     "metadata": {},
     "output_type": "execute_result"
    }
   ],
   "source": [
    "n = 100\n",
    "std = 40/np.sqrt(100)\n",
    "mean = 50\n",
    "# probobility of sample mean lying inside interval\n",
    "p = stats.norm.cdf(55,mean,std)-stats.norm.cdf(45,mean,std)\n",
    "# probobility of sample mean lying outside interval\n",
    "(1-p)*100"
   ]
  },
  {
   "cell_type": "code",
   "execution_count": 26,
   "metadata": {},
   "outputs": [
    {
     "data": {
      "text/plain": [
       "0.8943502263331446"
      ]
     },
     "execution_count": 26,
     "metadata": {},
     "output_type": "execute_result"
    }
   ],
   "source": [
    "stats.norm.cdf(55,mean,std)"
   ]
  },
  {
   "cell_type": "code",
   "execution_count": 27,
   "metadata": {},
   "outputs": [],
   "source": [
    "alpha = 0.05\n",
    "z = stats.norm.ppf((1-alpha)/2)\n",
    "n = ((z*40)/5)**2"
   ]
  },
  {
   "cell_type": "code",
   "execution_count": 28,
   "metadata": {},
   "outputs": [
    {
     "data": {
      "text/plain": [
       "1.959963984540054"
      ]
     },
     "execution_count": 28,
     "metadata": {},
     "output_type": "execute_result"
    }
   ],
   "source": [
    "stats.norm.ppf(0.975)"
   ]
  },
  {
   "cell_type": "code",
   "execution_count": 29,
   "metadata": {},
   "outputs": [
    {
     "data": {
      "text/plain": [
       "0.049984905539121376"
      ]
     },
     "execution_count": 29,
     "metadata": {},
     "output_type": "execute_result"
    }
   ],
   "source": [
    "stats.norm.cdf(-1.645)"
   ]
  },
  {
   "cell_type": "code",
   "execution_count": 30,
   "metadata": {},
   "outputs": [
    {
     "name": "stdout",
     "output_type": "stream",
     "text": [
      "Minimum sample size: 245.85336452442397\n"
     ]
    }
   ],
   "source": [
    "# Set parameters\n",
    "mu = 50\n",
    "sigma = 40\n",
    "alpha = 0.05\n",
    "z = stats.norm.ppf(1 - alpha/2)\n",
    "margin_of_error = 5\n",
    "\n",
    "# Calculate minimum sample size\n",
    "n = ((z*sigma)/margin_of_error)**2\n",
    "\n",
    "print(\"Minimum sample size:\", n)"
   ]
  }
 ],
 "metadata": {
  "kernelspec": {
   "display_name": "Python 3",
   "language": "python",
   "name": "python3"
  },
  "language_info": {
   "codemirror_mode": {
    "name": "ipython",
    "version": 3
   },
   "file_extension": ".py",
   "mimetype": "text/x-python",
   "name": "python",
   "nbconvert_exporter": "python",
   "pygments_lexer": "ipython3",
   "version": "3.10.6"
  },
  "orig_nbformat": 4,
  "vscode": {
   "interpreter": {
    "hash": "71ce2b37d068746d6319cfebb01c1cb1b7b9360c2e66c0d2761ec509a11075b7"
   }
  }
 },
 "nbformat": 4,
 "nbformat_minor": 2
}
