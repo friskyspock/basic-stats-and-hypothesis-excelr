{
 "cells": [
  {
   "cell_type": "code",
   "execution_count": 1,
   "metadata": {},
   "outputs": [],
   "source": [
    "import numpy as np\n",
    "from scipy import stats"
   ]
  },
  {
   "attachments": {},
   "cell_type": "markdown",
   "metadata": {},
   "source": [
    "1.\tThe time required for servicing transmissions is normally distributed with $\\mu$ = 45 minutes and $\\sigma$ = 8 minutes. The service manager plans to have work begin on the transmission of a customer’s car 10 minutes after the car is dropped off and the customer is told that the car will be ready within 1 hour from drop-off. What is the probability that the service manager cannot meet his commitment? \n",
    "\n",
    "    A.\t0.3875   \n",
    "    B.\t0.2676   \n",
    "    C.\t0.5   \n",
    "    D.\t0.6987 "
   ]
  },
  {
   "cell_type": "code",
   "execution_count": 2,
   "metadata": {},
   "outputs": [
    {
     "data": {
      "text/plain": [
       "0.26598552904870054"
      ]
     },
     "execution_count": 2,
     "metadata": {},
     "output_type": "execute_result"
    }
   ],
   "source": [
    "mean = 45\n",
    "std = 8\n",
    "1-stats.norm.cdf(50,loc=mean,scale=std)"
   ]
  },
  {
   "attachments": {},
   "cell_type": "markdown",
   "metadata": {},
   "source": [
    "2.\tThe current age (in years) of 400 clerical employees at an insurance claims processing center is normally distributed with mean $\\mu$ = 38 and Standard deviation $\\sigma$ = 6. For each statement below, please specify True/False. If false, briefly explain why.\n",
    "\n",
    "    A. More employees at the processing center are older than 44 than between 38 and 44.\\\n",
    "    B. A training program for employees under the age of 30 at the center would be expected to attract about 36 employees."
   ]
  },
  {
   "cell_type": "code",
   "execution_count": 2,
   "metadata": {},
   "outputs": [
    {
     "name": "stdout",
     "output_type": "stream",
     "text": [
      "between 38 and 44: 0.3413447460685429\n",
      "greater than 44: 0.15865525393145707\n"
     ]
    }
   ],
   "source": [
    "mean = 38\n",
    "std =6\n",
    "print('between 38 and 44:',stats.norm.cdf(44,mean,std)-stats.norm.cdf(38,mean,std))\n",
    "print('greater than 44:',1-stats.norm.cdf(44,mean,std))"
   ]
  },
  {
   "cell_type": "code",
   "execution_count": 4,
   "metadata": {},
   "outputs": [
    {
     "data": {
      "text/plain": [
       "False"
      ]
     },
     "execution_count": 4,
     "metadata": {},
     "output_type": "execute_result"
    }
   ],
   "source": [
    "mean = 38\n",
    "std =6\n",
    "P_44 = 1-stats.norm.cdf(44,mean,std)\n",
    "P_38_44 = stats.norm.cdf(44,mean,std)-stats.norm.cdf(38,mean,std)\n",
    "P_44>P_38_44"
   ]
  },
  {
   "cell_type": "code",
   "execution_count": 7,
   "metadata": {},
   "outputs": [
    {
     "name": "stdout",
     "output_type": "stream",
     "text": [
      "percentage under 30 = 0.09121121972586788\n",
      "percentage of 36 people = 9.0\n"
     ]
    }
   ],
   "source": [
    "print('percentage under 30 =',stats.norm.cdf(30,mean,std))\n",
    "print('percentage of 36 people =',36/4)"
   ]
  },
  {
   "cell_type": "code",
   "execution_count": 10,
   "metadata": {},
   "outputs": [
    {
     "data": {
      "text/plain": [
       "36.484487890347154"
      ]
     },
     "execution_count": 10,
     "metadata": {},
     "output_type": "execute_result"
    }
   ],
   "source": [
    "stats.norm.cdf((30-mean)/std)*400"
   ]
  },
  {
   "attachments": {},
   "cell_type": "markdown",
   "metadata": {},
   "source": [
    "3.\tIf X1 ~ N(μ, σ2) and X2 ~ N(μ, σ2) are IID normal random variables, then what is the difference between 2 X1 and X1 + X2? Discuss both their distributions and parameters.       "
   ]
  },
  {
   "cell_type": "code",
   "execution_count": null,
   "metadata": {},
   "outputs": [],
   "source": []
  },
  {
   "attachments": {},
   "cell_type": "markdown",
   "metadata": {},
   "source": [
    "4.\tLet X ~ N(100, 202). Find two values, a and b, symmetric about the mean, such that the probability of the random variable taking a value between them is 0.99. \n",
    "\n",
    "    A.\t90.5, 105.9\\\n",
    "    B.\t80.2, 119.8\\\n",
    "    C.\t22, 78\\\n",
    "    D.\t48.5, 151.5\\\n",
    "    E.\t90.1, 109.9"
   ]
  },
  {
   "cell_type": "code",
   "execution_count": 10,
   "metadata": {},
   "outputs": [
    {
     "data": {
      "text/plain": [
       "(48.483413929021985, 151.516586070978)"
      ]
     },
     "execution_count": 10,
     "metadata": {},
     "output_type": "execute_result"
    }
   ],
   "source": [
    "stats.norm.ppf(0.005,100,20),stats.norm.ppf(0.995,100,20)"
   ]
  },
  {
   "attachments": {},
   "cell_type": "markdown",
   "metadata": {},
   "source": [
    "5.\tConsider a company that has two different divisions. The annual profits from the two divisions are independent and have distributions Profit1 ~ N(5, 32) and Profit2 ~ N(7, 42) respectively. Both the profits are in $ Million. Answer the following questions about the total profit of the company in Rupees. Assume that $1 = Rs. 45\n",
    "\n",
    "    A.\tSpecify a Rupee range (centered on the mean) such that it contains 95% probability for the annual profit of the company.\\\n",
    "    B.\tSpecify the 5th percentile of profit (in Rupees) for the company\\\n",
    "    C.\tWhich of the two divisions has a larger probability of making a loss in a given year?\\\n"
   ]
  },
  {
   "cell_type": "code",
   "execution_count": 17,
   "metadata": {},
   "outputs": [],
   "source": [
    "# converting original mean and std in rupees\n",
    "mean1 = 5*45\n",
    "std1 = 3*45\n",
    "mean2 = 7*45\n",
    "std2 = 4*45\n",
    "# calculating total mean and std\n",
    "total_mean = mean1+mean2\n",
    "total_std = np.sqrt(std1**2 + std2**2)"
   ]
  },
  {
   "cell_type": "code",
   "execution_count": 14,
   "metadata": {},
   "outputs": [
    {
     "data": {
      "text/plain": [
       "(99.00810347848773, 980.9918965215122)"
      ]
     },
     "execution_count": 14,
     "metadata": {},
     "output_type": "execute_result"
    }
   ],
   "source": [
    "# rupee range\n",
    "stats.norm.ppf(0.025,total_mean,total_std),stats.norm.ppf(0.975,total_mean,total_std)"
   ]
  },
  {
   "cell_type": "code",
   "execution_count": 18,
   "metadata": {},
   "outputs": [
    {
     "data": {
      "text/plain": [
       "169.9079339359186"
      ]
     },
     "execution_count": 18,
     "metadata": {},
     "output_type": "execute_result"
    }
   ],
   "source": [
    "stats.norm.ppf(0.05,total_mean,total_std)"
   ]
  },
  {
   "cell_type": "code",
   "execution_count": 19,
   "metadata": {},
   "outputs": [
    {
     "name": "stdout",
     "output_type": "stream",
     "text": [
      "Division 1 loss probability: 0.0477903522728147\n",
      "Division 2 loss probability: 0.040059156863817086\n"
     ]
    }
   ],
   "source": [
    "print('Division 1 loss probability:',stats.norm.cdf(0,mean1,std1))\n",
    "print('Division 2 loss probability:',stats.norm.cdf(0,mean2,std2))"
   ]
  }
 ],
 "metadata": {
  "kernelspec": {
   "display_name": "Python 3",
   "language": "python",
   "name": "python3"
  },
  "language_info": {
   "codemirror_mode": {
    "name": "ipython",
    "version": 3
   },
   "file_extension": ".py",
   "mimetype": "text/x-python",
   "name": "python",
   "nbconvert_exporter": "python",
   "pygments_lexer": "ipython3",
   "version": "3.11.3"
  },
  "orig_nbformat": 4
 },
 "nbformat": 4,
 "nbformat_minor": 2
}
